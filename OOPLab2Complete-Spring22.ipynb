{
 "cells": [
  {
   "cell_type": "markdown",
   "metadata": {},
   "source": [
    "# OOPLab2-Spring22 \n",
    "So now that we know a little more about inheritance and how it works, let's update and expand on our previous work with the Sequence class and Sequence records.\n",
    " \n",
    "\n",
    "When we wrote Sequence before, we did so at least somewhat thinking we'd be dealing with DNA sequences. However, that's not always the case,  Sequence could just as well refer to a protein sequence instead. And the methods we wrote in our Sequence class, the things we might have added like get GC count or finding the reverse complement, aren't appropriate for protein sequences.  This represents a great opportunity to utilize inheritance to create two subtypes of Sequence.\n",
    "\n",
    " \n",
    "\n",
    "In a notebook, start with a markdown cell and plan out what you think these 3 classes should look like. What are the common elements of Sequences (things we could define in the parent class Sequence) and what would need to be unique to DNASequence and ProteinSequence classes? What rules do you want to enforce about what these sequences should look like and how do you want enforce those rules? Do you need to override constructors, or could the parent's work? Remember, eventually you want these to work with the SequenceRecord class we built earlier, so don't make any huge fundamental changes that would break that.\n",
    "\n",
    "\n",
    "#### Your classes should, at minimum:\n",
    "\n",
    "- have a __repr__ and __str__that provide a meaningful representation as a string  \n",
    "- check that the bases or amino acids in the string are valid  \n",
    "- work as the argument for a SequenceRecord\n",
    "#### DNA\n",
    "\n",
    "- a translate method that will convert the DNA sequence and return a ProteinSequence object  \n",
    "- one other method of your choice (what you did previously is fine)  \n",
    "\n",
    "#### Protein\n",
    "\n",
    "- a method of your choice. In this case, if the method you would implement is too complex to reasonably implement or would use resources you don't have access to, it is okay to leave it as what is called a stub method (has only one line, \"pass\") and explain in comments what this method would do and it's purpose\n",
    " \n",
    "\n",
    "Here is a dictionary you can copy into your code to help facilitate DNA translation:\n",
    "\n",
    "aa_dict = {'M':['ATG'], 'F':['TTT', 'TTC'], 'L':['TTA', 'TTG', 'CTT', 'CTC', 'CTA', 'CTG'], 'C':['TGT', 'TGC'], 'Y':['TAC', 'TAT'], 'W':['TGG'], 'P':['CCT', 'CCC', 'CCA', 'CCG'], 'H':['CAT', 'CAC'],  \n",
    "'Q':['CAA', 'CAG'], 'R':['CGT', 'CGC', 'CGA', 'CGG', 'AGA', 'AGG'], 'I':['ATT', 'ATC', 'ATA'], 'T':['ACT', 'ACC', 'ACA', 'ACG'],  \n",
    "'N':['AAT', 'AAC'], 'K':['AAA', 'AAG'], 'S':['AGT', 'AGC', 'TCT', 'TCC', 'TCA', 'TCG'], 'V':['GTT', 'GTC', 'GTA', 'GTG'],  \n",
    "'A':['GCT', 'GCC', 'GCA', 'GCG'], 'D':['GAT', 'GAC'], 'E':['GAA', 'GAG'], 'G':['GGT', 'GGC', 'GGA', 'GGG'], '*':['TAA','TAG','TGA']}"
   ]
  },
  {
   "cell_type": "markdown",
   "metadata": {},
   "source": [
    "#### I plan to create two classes that are children of the Sequence method with new features specific to amino acids and nucleotides. These sequences will not be comparable.  \n",
    "Each one of the sequence methods will check for the object type and raise and exception if they are not the same. These will be minor changes to the sequence class to avoid needing to make significant overrides.  \n",
    "\n",
    "Additionally I end up removing nucleotide specific functions from the class."
   ]
  },
  {
   "cell_type": "code",
   "execution_count": 118,
   "metadata": {},
   "outputs": [],
   "source": [
    "from typing import List\n",
    "from xmlrpc.client import Boolean\n",
    "#sequence class goes here\n",
    "class Sequence:\n",
    "\n",
    "    def __init__(self, sequence: str) ->None:\n",
    "        #string the represents the dictionary sequence\n",
    "        self.sequence = sequence\n",
    "\n",
    "    def __str__(self):\n",
    "        return 'A character sequence beginning with \"{}\"...'.format(self.sequence[0:10])\n",
    "\n",
    "    def __repr__(self):\n",
    "        return 'Sequence Object: {}'.format(self.sequence)\n",
    "\n",
    "    def __len__(self):\n",
    "        length = 0\n",
    "        for i in self.sequence:\n",
    "            length += 1\n",
    "        return(length)\n",
    "\n",
    "    def __eq__(self, other):\n",
    "        #Find if the sequence string is equivalent.\n",
    "        return self.sequence == other.sequence\n",
    "\n",
    "    def __lt__(self, other):\n",
    "        if type(self) != type(other):\n",
    "            raise TypeError(\"Cannot compare these types.\")\n",
    "        #lengths for sorting\n",
    "        return self.__len__ < other.__len__\n",
    "\n",
    "    def __add__(self, other):\n",
    "        if type(self) != type(other):\n",
    "            raise TypeError(\"Cannot add these types.\")\n",
    "        self.sequence += other.sequence\n",
    "        return self.sequence"
   ]
  },
  {
   "cell_type": "markdown",
   "metadata": {},
   "source": [
    "For the nucleosequence class I added the convert method, and created verify methods to check for the contents of the string.  \n",
    "This init method will return and error if a protein sequence is passed into it."
   ]
  },
  {
   "cell_type": "code",
   "execution_count": 119,
   "metadata": {},
   "outputs": [],
   "source": [
    "#Nucleotide\n",
    "class NucleoSeq(Sequence):\n",
    "    \n",
    "    def __init__(self, sequence):\n",
    "        super().__init__(sequence)\n",
    "\n",
    "        def verify(self):\n",
    "            nucleotides = ['a', 'g', 'c', 't']\n",
    "            if not all(i in nucleotides for i in self.sequence):\n",
    "                return False\n",
    "            return True\n",
    "        if not verify:\n",
    "            raise TypeError('Input is not in nucelotide format')\n",
    "\n",
    "    def __str__(self):\n",
    "        return 'A character sequence of nucleotides beginning with \"{}\"...'.format(self.sequence[0:10])\n",
    "\n",
    "    def __repr__(self):\n",
    "        return 'Protein Sequence Object of length {} :{}'.format(self.__len__, self.sequence)\n",
    "\n",
    "    def compliment(self):\n",
    "        convert = {'a':'t', 'g':'c', 't':'a', 'c':'g'}\n",
    "        inter = ''\n",
    "        for i in self.sequence:\n",
    "            j = convert[i]\n",
    "            inter += j\n",
    "        complimentarySequence = Sequence(inter)\n",
    "        return complimentarySequence\n",
    "\n",
    "    def convert(self):\n",
    "        aa_dict = {'M':['ATG'], 'F':['TTT', 'TTC'], 'L':['TTA', 'TTG', 'CTT', 'CTC', 'CTA', 'CTG'], 'C':['TGT', 'TGC'], 'Y':['TAC', 'TAT'], 'W':['TGG'], 'P':['CCT', 'CCC', 'CCA', 'CCG'], 'H':['CAT', 'CAC'],  \n",
    "        'Q':['CAA', 'CAG'], 'R':['CGT', 'CGC', 'CGA', 'CGG', 'AGA', 'AGG'], 'I':['ATT', 'ATC', 'ATA'], 'T':['ACT', 'ACC', 'ACA', 'ACG'],  \n",
    "        'N':['AAT', 'AAC'], 'K':['AAA', 'AAG'], 'S':['AGT', 'AGC', 'TCT', 'TCC', 'TCA', 'TCG'], 'V':['GTT', 'GTC', 'GTA', 'GTG'],  \n",
    "        'A':['GCT', 'GCC', 'GCA', 'GCG'], 'D':['GAT', 'GAC'], 'E':['GAA', 'GAG'], 'G':['GGT', 'GGC', 'GGA', 'GGG'], '*':['TAA','TAG','TGA']}\n",
    "        inter = \"\"\n",
    "        codons = [self.sequence[i:i+3] for i in range(len(self.sequence)-2)[::3]]\n",
    "\n",
    "        for i in codons:\n",
    "            for j in aa_dict:\n",
    "                if i.upper() in aa_dict[j]:\n",
    "                        inter += j\n",
    "        convertedSequence = ProtSeq(inter)\n",
    "        return convertedSequence\n",
    "\n"
   ]
  },
  {
   "cell_type": "markdown",
   "metadata": {},
   "source": [
    "For the protein sequence I attempted a method to return the sequence its nucleotide sequence, however advanced software and metadata would be needed to do something like this."
   ]
  },
  {
   "cell_type": "code",
   "execution_count": 120,
   "metadata": {},
   "outputs": [],
   "source": [
    "##Protein\n",
    "class ProtSeq(Sequence):\n",
    "    \n",
    "    def __init__(self, sequence ):\n",
    "        super().__init__(sequence)\n",
    "\n",
    "        def verify(self):\n",
    "            nucleotides = ['a', 'g', 'c', 't']\n",
    "            if all(i in nucleotides for i in self.sequence):\n",
    "                return False\n",
    "            return True\n",
    "\n",
    "        if not verify:\n",
    "            raise TypeError('Input is not in nucelotide format')\n",
    "\n",
    "    def convert(self):\n",
    "        aa_dict = {'M':['ATG'], 'F':['TTT', 'TTC'], 'L':['TTA', 'TTG', 'CTT', 'CTC', 'CTA', 'CTG'], 'C':['TGT', 'TGC'], 'Y':['TAC', 'TAT'], 'W':['TGG'], 'P':['CCT', 'CCC', 'CCA', 'CCG'], 'H':['CAT', 'CAC'],  \n",
    "        'Q':['CAA', 'CAG'], 'R':['CGT', 'CGC', 'CGA', 'CGG', 'AGA', 'AGG'], 'I':['ATT', 'ATC', 'ATA'], 'T':['ACT', 'ACC', 'ACA', 'ACG'],  \n",
    "        'N':['AAT', 'AAC'], 'K':['AAA', 'AAG'], 'S':['AGT', 'AGC', 'TCT', 'TCC', 'TCA', 'TCG'], 'V':['GTT', 'GTC', 'GTA', 'GTG'],  \n",
    "        'A':['GCT', 'GCC', 'GCA', 'GCG'], 'D':['GAT', 'GAC'], 'E':['GAA', 'GAG'], 'G':['GGT', 'GGC', 'GGA', 'GGG'], '*':['TAA','TAG','TGA']}\n",
    "        inter = ''\n",
    "        for i in self.sequence:\n",
    "            j = aa_dict[i][0]\n",
    "            inter += j\n",
    "        nucSeq = NucleoSeq(inter)\n",
    "        return nucSeq \n",
    "\n",
    "    def __str__(self):\n",
    "        return 'A character sequence of amino acids beginning with \"{}\"...'.format(self.sequence[0:10])\n",
    "\n",
    "    def __repr__(self):\n",
    "        return 'Protein Sequence Object of length {} :{}'.format(self.__len__, self.sequence)"
   ]
  },
  {
   "cell_type": "markdown",
   "metadata": {},
   "source": [
    "Minor tweaks were made ot sequence record to accept the different types of objects. With changes to a single line the class works the same."
   ]
  },
  {
   "cell_type": "code",
   "execution_count": 126,
   "metadata": {},
   "outputs": [],
   "source": [
    "# SequenceRecord class goes here\n",
    "class SequenceRecord:\n",
    "    def __init__(self, record: List[str], sequenceO) -> None:\n",
    "        if type(sequenceO) == Sequence or type(sequenceO) == NucleoSeq or type(sequenceO = ProtSeq):\n",
    "            self.sequenceO = sequenceO\n",
    "        else:\n",
    "            print(\"Not a sequence file.\")\n",
    "            return False\n",
    "\n",
    "        recordList = record.split(' ', 1)\n",
    "\n",
    "        self.record = recordList\n",
    "\n",
    "    def __str__(self):\n",
    "        return 'A sequence record of a \"{}\"'.format(self.record[0])\n",
    "\n",
    "    def __repr__(self):\n",
    "        return 'SequenceRecord Object: {} {} | {}'.format(self.record[0], self.record[1], self.sequenceO.sequence)\n",
    "\n",
    "    def __eq__(self, other):\n",
    "        return self.record[0] == other.record[0]\n",
    "\n",
    "    def __lt__(self, other):\n",
    "        #lengths for sorting\n",
    "        return self.sequenceO.__len__ < other.sequenceO.__len__"
   ]
  },
  {
   "cell_type": "markdown",
   "metadata": {},
   "source": [
    "Fasta generator is changed and taken into a run function which simply takes the type of file and the file name, and returns a list of sequence objects."
   ]
  },
  {
   "cell_type": "code",
   "execution_count": 132,
   "metadata": {},
   "outputs": [
    {
     "name": "stdout",
     "output_type": "stream",
     "text": [
      "[SequenceRecord Object: Lungfish Protopterus dolloi | atggcaacaaatatccgaaaaactcacccgctccttaaaatcgtaaacaactccctaattgacctgccaaccccatcaaacatttcagcatgatgaaacttcggctcacttcttggattctgccttattactcaaattctcacaggattattcttagctatacactacactgctgacacctcaacagccttctcatctatcgcacacatcgcccgcgacgtaaactatggctggctcctgcgcaacattcacgcaaacggagcatccatattttttatttgcatctacatccacattggtcgtggaatttattacggatccttcctatatacagagacctgaaatatcggagtagttctttttcttttaactataataactgcattcgtaggctacgttctcccgtgaggtcaaatatccttctggggtgccacagtcatcactaatctcctctcagccgtcccatacctaggagataccctagttcaatggatttggggcggattttctgtagacaacgccaccctcacccgattcttcgcttttcacttccttctccccttcatcatctctgcaataaccgccgcacactttttattcctccacgaaacaggctcaaataacccaacaggattaaactctaacctagacaaaatctcgttccacccgtattttactataaaagaccttttagggttcctaatacttgcttcttttctctgcctattagccctattttctcctaatcttctaggggacccagaaaattttaccccggctaatccacttgtcaccccaacccacatcaagccagagtgatacttcctctttgcatatgcaattctgcgctccatcccaaataaacttggaggcgtactagcacttatagcgtcgatccttattctttttatcattccgtttcttcaccgagcaaaacaacgcactatatcataccgacccctttctcaattcatattttggctgctaacagcagatatacttattctcacatgaatcggcggtcagcctgtagaacacccatttattctaattggccaaattgcttcagctacctattttcttctctttctactactcttccccctcatcacctcacttgagaacaaacttctctataaatact, SequenceRecord Object: Shark Scyliorhinus canicula | atggccacaaacatccgaaaaactcaccctctactaaaaattgtaaatcatgccctaattgatctcccagccccatcaaatatttcagtttgatgaaactttggttcacttctaggactatgcttaattatacaaattattacaggactcttcctagctatgcactacactgcagacatttctatagctttctcctcagttatccatatctcccgcgatgttaactacggttgactcatgcgtaatattcatgcctacggagcttcattcttcttcatctgcatctacttacacattgcccgaggtttgtattatggttcctatcttaacaaagaagcatgaaacatcggcgtcgtattattattcttacttatagctacagccttcgtaggctatgtcctaccatgaggacaaatatccttctgaggcgcaacagtaattactaaccttctctccgcatttccttatattggaaatttattagttcaatggatttgagggggcttctcagtagataatgccaccttaacacgttttttcgccttccactttctcctacctttcctaatcttagccttatccgtaattcatattctctttctacatgaaaccggggccaataaccccataggcattaactctaacacagataaaatttccttccacccatacttctcatataaagacttatttggcttcttaattgtaattaccttattagcaaccttagcactatttatgcccaacttactaggggatgctgaaaactttatcccagctaatcccctcgttacccctctacacattcaacctgaatgatacttcttattcgcctatgccattttacgctctattcctaataaacttgggggtgtcttagccctattattctctatttttattttattgttagtgccactccttcacacctcaaaactacgaagtaacatctttcgacctcttacacaaatcttcttttgatctttagtaactaatgccattattttaacatgaattggagggcaaccagtagaacaaccatttatcatagtaggtcaaatcgcctcagtcgcctacttctccttattccttttcgtgattccgatcaccagctggtgtgaaaacaaattcctcagcctaaact]\n"
     ]
    }
   ],
   "source": [
    "def fastaGenerator(fasta):\n",
    "    \n",
    "    with open(fasta) as f:\n",
    "        header = None\n",
    "        sequence = \"\"\n",
    "        for line in f:\n",
    "            line = line.strip()\n",
    "            if line.startswith(\">\"):\n",
    "                    if header:\n",
    "                        yield(header,sequence)\n",
    "                    sequence = \"\"\n",
    "                    header = line.lstrip(\">\")\n",
    "                    \n",
    "            else:\n",
    "                sequence += line.strip()\n",
    "    yield(header,sequence)\n",
    "\n",
    "def run(filename, type):\n",
    "    file = fastaGenerator(filename)\n",
    "    sequenceList = []\n",
    "    if type == \"p\":\n",
    "        for i in file:\n",
    "            newSequence = ProtSeq(i[1])\n",
    "            newSequenceRecord = SequenceRecord(i[0], newSequence)\n",
    "            sequenceList.append(newSequenceRecord)\n",
    "    else:\n",
    "        for i in file:\n",
    "            newSequence = NucleoSeq(i[1])\n",
    "            newSequenceRecord = SequenceRecord(i[0], newSequence)\n",
    "            sequenceList.append(newSequenceRecord)\n",
    "\n",
    "    print(sequenceList[:2])\n",
    "    #return sequenceList\n",
    "\n",
    "run(\"testDNA.fasta\", \"n\")\n"
   ]
  },
  {
   "cell_type": "code",
   "execution_count": null,
   "metadata": {},
   "outputs": [],
   "source": []
  }
 ],
 "metadata": {
  "interpreter": {
   "hash": "ad2bdc8ecc057115af97d19610ffacc2b4e99fae6737bb82f5d7fb13d2f2c186"
  },
  "kernelspec": {
   "display_name": "Python 3.8.8 ('base')",
   "language": "python",
   "name": "python3"
  },
  "language_info": {
   "codemirror_mode": {
    "name": "ipython",
    "version": 3
   },
   "file_extension": ".py",
   "mimetype": "text/x-python",
   "name": "python",
   "nbconvert_exporter": "python",
   "pygments_lexer": "ipython3",
   "version": "3.8.8"
  },
  "orig_nbformat": 4
 },
 "nbformat": 4,
 "nbformat_minor": 2
}
